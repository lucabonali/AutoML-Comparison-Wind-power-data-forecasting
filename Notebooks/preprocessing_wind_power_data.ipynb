{
  "nbformat": 4,
  "nbformat_minor": 0,
  "metadata": {
    "colab": {
      "provenance": []
    },
    "kernelspec": {
      "name": "python3",
      "display_name": "Python 3"
    },
    "language_info": {
      "name": "python"
    }
  },
  "cells": [
    {
      "cell_type": "markdown",
      "source": [
        "## Preprocessing steps for Wind Turbine data comparison. As credit, part of these preprocessing steps and feature analysis of this notebook were directly taken from here https://www.kaggle.com/code/akdagmelih/wind-turbine-power-prediction-gbtregressor-pyspark"
      ],
      "metadata": {
        "id": "7Q0eLoKkmhNW"
      }
    },
    {
      "cell_type": "code",
      "execution_count": 39,
      "metadata": {
        "colab": {
          "base_uri": "https://localhost:8080/",
          "height": 17
        },
        "id": "jYZ5akJIgSwF",
        "outputId": "cbfa8c07-47d2-46bc-bddc-676ce5866b8f"
      },
      "outputs": [
        {
          "output_type": "display_data",
          "data": {
            "text/plain": [
              "<IPython.core.display.HTML object>"
            ],
            "text/html": [
              "<style>.container { width:100% !important; }</style>"
            ]
          },
          "metadata": {}
        }
      ],
      "source": [
        "from IPython.display import display, HTML\n",
        "display(HTML(\"<style>.container { width:100% !important; }</style>\"))"
      ]
    },
    {
      "cell_type": "code",
      "source": [
        "!pip install pyspark"
      ],
      "metadata": {
        "colab": {
          "base_uri": "https://localhost:8080/"
        },
        "id": "54CzttS9gVjb",
        "outputId": "0b3ff6f0-5f52-416e-b875-b48dd44bc5e0"
      },
      "execution_count": 40,
      "outputs": [
        {
          "output_type": "stream",
          "name": "stdout",
          "text": [
            "Looking in indexes: https://pypi.org/simple, https://us-python.pkg.dev/colab-wheels/public/simple/\n",
            "Requirement already satisfied: pyspark in /usr/local/lib/python3.8/dist-packages (3.3.1)\n",
            "Requirement already satisfied: py4j==0.10.9.5 in /usr/local/lib/python3.8/dist-packages (from pyspark) (0.10.9.5)\n"
          ]
        }
      ]
    },
    {
      "cell_type": "code",
      "source": [
        "import os\n",
        "import pandas as pd\n",
        "import numpy as np\n",
        "import seaborn as sns\n",
        "import matplotlib.pyplot as plt\n",
        "\n",
        "from warnings import filterwarnings\n",
        "filterwarnings('ignore')"
      ],
      "metadata": {
        "id": "te_UgfdegZ3F"
      },
      "execution_count": 41,
      "outputs": []
    },
    {
      "cell_type": "markdown",
      "source": [
        "## Importing Pyspark"
      ],
      "metadata": {
        "id": "6jmt6Lj8gkpm"
      }
    },
    {
      "cell_type": "code",
      "source": [
        "# Importing pyspark libraries\n",
        "import pyspark\n",
        "from pyspark.sql import SparkSession\n",
        "from pyspark.sql.functions import *\n",
        "from pyspark.conf import SparkConf\n",
        "from pyspark import SparkContext\n",
        "from pyspark.sql.functions import percent_rank\n",
        "from pyspark.sql import Window\n",
        "# Configuration of Spark Session\n",
        "spark = SparkSession.builder.appName(\"wind_turbine_project\").getOrCreate()\n",
        "spark.version"
      ],
      "metadata": {
        "colab": {
          "base_uri": "https://localhost:8080/",
          "height": 36
        },
        "id": "93U2ZCa9gelu",
        "outputId": "90fc926c-dd29-4db7-fe75-bb08f46f28b8"
      },
      "execution_count": 42,
      "outputs": [
        {
          "output_type": "execute_result",
          "data": {
            "text/plain": [
              "'3.3.1'"
            ],
            "application/vnd.google.colaboratory.intrinsic+json": {
              "type": "string"
            }
          },
          "metadata": {},
          "execution_count": 42
        }
      ]
    },
    {
      "cell_type": "code",
      "source": [
        "directory_path = os.getcwd()\n",
        "directory_path"
      ],
      "metadata": {
        "colab": {
          "base_uri": "https://localhost:8080/",
          "height": 36
        },
        "id": "1PLiO4NFgn0J",
        "outputId": "e6ff2527-421e-4e78-cfcf-96e2e0ea736a"
      },
      "execution_count": 43,
      "outputs": [
        {
          "output_type": "execute_result",
          "data": {
            "text/plain": [
              "'/content'"
            ],
            "application/vnd.google.colaboratory.intrinsic+json": {
              "type": "string"
            }
          },
          "metadata": {},
          "execution_count": 43
        }
      ]
    },
    {
      "cell_type": "code",
      "source": [
        "data_directory_path = os.getcwd()\n",
        "\n",
        "data_path = os.path.join(data_directory_path,\"Data\", \"wind_turbine_data.csv\")\n",
        "wind_pandas_df = pd.read_csv(data_path)\n",
        "spark_df = spark.createDataFrame(wind_pandas_df)\n",
        "wind_pandas_df"
      ],
      "metadata": {
        "colab": {
          "base_uri": "https://localhost:8080/",
          "height": 424
        },
        "id": "Kv78PlGYgqhi",
        "outputId": "26fd1b3b-3236-4c77-c729-a49676064477"
      },
      "execution_count": 44,
      "outputs": [
        {
          "output_type": "execute_result",
          "data": {
            "text/plain": [
              "              Date/Time  LV ActivePower (kW)  Wind Speed (m/s)  \\\n",
              "0      01 01 2018 00:00           380.047791          5.311336   \n",
              "1      01 01 2018 00:10           453.769196          5.672167   \n",
              "2      01 01 2018 00:20           306.376587          5.216037   \n",
              "3      01 01 2018 00:30           419.645905          5.659674   \n",
              "4      01 01 2018 00:40           380.650696          5.577941   \n",
              "...                 ...                  ...               ...   \n",
              "50525  31 12 2018 23:10          2963.980957         11.404030   \n",
              "50526  31 12 2018 23:20          1684.353027          7.332648   \n",
              "50527  31 12 2018 23:30          2201.106934          8.435358   \n",
              "50528  31 12 2018 23:40          2515.694092          9.421366   \n",
              "50529  31 12 2018 23:50          2820.466064          9.979332   \n",
              "\n",
              "       Theoretical_Power_Curve (KWh)  Wind Direction (°)  \n",
              "0                         416.328908          259.994904  \n",
              "1                         519.917511          268.641113  \n",
              "2                         390.900016          272.564789  \n",
              "3                         516.127569          271.258087  \n",
              "4                         491.702972          265.674286  \n",
              "...                              ...                 ...  \n",
              "50525                    3397.190793           80.502724  \n",
              "50526                    1173.055771           84.062599  \n",
              "50527                    1788.284755           84.742500  \n",
              "50528                    2418.382503           84.297913  \n",
              "50529                    2779.184096           82.274620  \n",
              "\n",
              "[50530 rows x 5 columns]"
            ],
            "text/html": [
              "\n",
              "  <div id=\"df-7b59a10f-8bab-4f01-884f-c7a4c0692b78\">\n",
              "    <div class=\"colab-df-container\">\n",
              "      <div>\n",
              "<style scoped>\n",
              "    .dataframe tbody tr th:only-of-type {\n",
              "        vertical-align: middle;\n",
              "    }\n",
              "\n",
              "    .dataframe tbody tr th {\n",
              "        vertical-align: top;\n",
              "    }\n",
              "\n",
              "    .dataframe thead th {\n",
              "        text-align: right;\n",
              "    }\n",
              "</style>\n",
              "<table border=\"1\" class=\"dataframe\">\n",
              "  <thead>\n",
              "    <tr style=\"text-align: right;\">\n",
              "      <th></th>\n",
              "      <th>Date/Time</th>\n",
              "      <th>LV ActivePower (kW)</th>\n",
              "      <th>Wind Speed (m/s)</th>\n",
              "      <th>Theoretical_Power_Curve (KWh)</th>\n",
              "      <th>Wind Direction (°)</th>\n",
              "    </tr>\n",
              "  </thead>\n",
              "  <tbody>\n",
              "    <tr>\n",
              "      <th>0</th>\n",
              "      <td>01 01 2018 00:00</td>\n",
              "      <td>380.047791</td>\n",
              "      <td>5.311336</td>\n",
              "      <td>416.328908</td>\n",
              "      <td>259.994904</td>\n",
              "    </tr>\n",
              "    <tr>\n",
              "      <th>1</th>\n",
              "      <td>01 01 2018 00:10</td>\n",
              "      <td>453.769196</td>\n",
              "      <td>5.672167</td>\n",
              "      <td>519.917511</td>\n",
              "      <td>268.641113</td>\n",
              "    </tr>\n",
              "    <tr>\n",
              "      <th>2</th>\n",
              "      <td>01 01 2018 00:20</td>\n",
              "      <td>306.376587</td>\n",
              "      <td>5.216037</td>\n",
              "      <td>390.900016</td>\n",
              "      <td>272.564789</td>\n",
              "    </tr>\n",
              "    <tr>\n",
              "      <th>3</th>\n",
              "      <td>01 01 2018 00:30</td>\n",
              "      <td>419.645905</td>\n",
              "      <td>5.659674</td>\n",
              "      <td>516.127569</td>\n",
              "      <td>271.258087</td>\n",
              "    </tr>\n",
              "    <tr>\n",
              "      <th>4</th>\n",
              "      <td>01 01 2018 00:40</td>\n",
              "      <td>380.650696</td>\n",
              "      <td>5.577941</td>\n",
              "      <td>491.702972</td>\n",
              "      <td>265.674286</td>\n",
              "    </tr>\n",
              "    <tr>\n",
              "      <th>...</th>\n",
              "      <td>...</td>\n",
              "      <td>...</td>\n",
              "      <td>...</td>\n",
              "      <td>...</td>\n",
              "      <td>...</td>\n",
              "    </tr>\n",
              "    <tr>\n",
              "      <th>50525</th>\n",
              "      <td>31 12 2018 23:10</td>\n",
              "      <td>2963.980957</td>\n",
              "      <td>11.404030</td>\n",
              "      <td>3397.190793</td>\n",
              "      <td>80.502724</td>\n",
              "    </tr>\n",
              "    <tr>\n",
              "      <th>50526</th>\n",
              "      <td>31 12 2018 23:20</td>\n",
              "      <td>1684.353027</td>\n",
              "      <td>7.332648</td>\n",
              "      <td>1173.055771</td>\n",
              "      <td>84.062599</td>\n",
              "    </tr>\n",
              "    <tr>\n",
              "      <th>50527</th>\n",
              "      <td>31 12 2018 23:30</td>\n",
              "      <td>2201.106934</td>\n",
              "      <td>8.435358</td>\n",
              "      <td>1788.284755</td>\n",
              "      <td>84.742500</td>\n",
              "    </tr>\n",
              "    <tr>\n",
              "      <th>50528</th>\n",
              "      <td>31 12 2018 23:40</td>\n",
              "      <td>2515.694092</td>\n",
              "      <td>9.421366</td>\n",
              "      <td>2418.382503</td>\n",
              "      <td>84.297913</td>\n",
              "    </tr>\n",
              "    <tr>\n",
              "      <th>50529</th>\n",
              "      <td>31 12 2018 23:50</td>\n",
              "      <td>2820.466064</td>\n",
              "      <td>9.979332</td>\n",
              "      <td>2779.184096</td>\n",
              "      <td>82.274620</td>\n",
              "    </tr>\n",
              "  </tbody>\n",
              "</table>\n",
              "<p>50530 rows × 5 columns</p>\n",
              "</div>\n",
              "      <button class=\"colab-df-convert\" onclick=\"convertToInteractive('df-7b59a10f-8bab-4f01-884f-c7a4c0692b78')\"\n",
              "              title=\"Convert this dataframe to an interactive table.\"\n",
              "              style=\"display:none;\">\n",
              "        \n",
              "  <svg xmlns=\"http://www.w3.org/2000/svg\" height=\"24px\"viewBox=\"0 0 24 24\"\n",
              "       width=\"24px\">\n",
              "    <path d=\"M0 0h24v24H0V0z\" fill=\"none\"/>\n",
              "    <path d=\"M18.56 5.44l.94 2.06.94-2.06 2.06-.94-2.06-.94-.94-2.06-.94 2.06-2.06.94zm-11 1L8.5 8.5l.94-2.06 2.06-.94-2.06-.94L8.5 2.5l-.94 2.06-2.06.94zm10 10l.94 2.06.94-2.06 2.06-.94-2.06-.94-.94-2.06-.94 2.06-2.06.94z\"/><path d=\"M17.41 7.96l-1.37-1.37c-.4-.4-.92-.59-1.43-.59-.52 0-1.04.2-1.43.59L10.3 9.45l-7.72 7.72c-.78.78-.78 2.05 0 2.83L4 21.41c.39.39.9.59 1.41.59.51 0 1.02-.2 1.41-.59l7.78-7.78 2.81-2.81c.8-.78.8-2.07 0-2.86zM5.41 20L4 18.59l7.72-7.72 1.47 1.35L5.41 20z\"/>\n",
              "  </svg>\n",
              "      </button>\n",
              "      \n",
              "  <style>\n",
              "    .colab-df-container {\n",
              "      display:flex;\n",
              "      flex-wrap:wrap;\n",
              "      gap: 12px;\n",
              "    }\n",
              "\n",
              "    .colab-df-convert {\n",
              "      background-color: #E8F0FE;\n",
              "      border: none;\n",
              "      border-radius: 50%;\n",
              "      cursor: pointer;\n",
              "      display: none;\n",
              "      fill: #1967D2;\n",
              "      height: 32px;\n",
              "      padding: 0 0 0 0;\n",
              "      width: 32px;\n",
              "    }\n",
              "\n",
              "    .colab-df-convert:hover {\n",
              "      background-color: #E2EBFA;\n",
              "      box-shadow: 0px 1px 2px rgba(60, 64, 67, 0.3), 0px 1px 3px 1px rgba(60, 64, 67, 0.15);\n",
              "      fill: #174EA6;\n",
              "    }\n",
              "\n",
              "    [theme=dark] .colab-df-convert {\n",
              "      background-color: #3B4455;\n",
              "      fill: #D2E3FC;\n",
              "    }\n",
              "\n",
              "    [theme=dark] .colab-df-convert:hover {\n",
              "      background-color: #434B5C;\n",
              "      box-shadow: 0px 1px 3px 1px rgba(0, 0, 0, 0.15);\n",
              "      filter: drop-shadow(0px 1px 2px rgba(0, 0, 0, 0.3));\n",
              "      fill: #FFFFFF;\n",
              "    }\n",
              "  </style>\n",
              "\n",
              "      <script>\n",
              "        const buttonEl =\n",
              "          document.querySelector('#df-7b59a10f-8bab-4f01-884f-c7a4c0692b78 button.colab-df-convert');\n",
              "        buttonEl.style.display =\n",
              "          google.colab.kernel.accessAllowed ? 'block' : 'none';\n",
              "\n",
              "        async function convertToInteractive(key) {\n",
              "          const element = document.querySelector('#df-7b59a10f-8bab-4f01-884f-c7a4c0692b78');\n",
              "          const dataTable =\n",
              "            await google.colab.kernel.invokeFunction('convertToInteractive',\n",
              "                                                     [key], {});\n",
              "          if (!dataTable) return;\n",
              "\n",
              "          const docLinkHtml = 'Like what you see? Visit the ' +\n",
              "            '<a target=\"_blank\" href=https://colab.research.google.com/notebooks/data_table.ipynb>data table notebook</a>'\n",
              "            + ' to learn more about interactive tables.';\n",
              "          element.innerHTML = '';\n",
              "          dataTable['output_type'] = 'display_data';\n",
              "          await google.colab.output.renderOutput(dataTable, element);\n",
              "          const docLink = document.createElement('div');\n",
              "          docLink.innerHTML = docLinkHtml;\n",
              "          element.appendChild(docLink);\n",
              "        }\n",
              "      </script>\n",
              "    </div>\n",
              "  </div>\n",
              "  "
            ]
          },
          "metadata": {},
          "execution_count": 44
        }
      ]
    },
    {
      "cell_type": "code",
      "source": [
        "# Caching the dataset\n",
        "spark_df.cache()\n",
        "# Converting all the column names to lower case\n",
        "spark_df = spark_df.toDF(*[c.lower() for c in spark_df.columns])\n",
        "print('Show the first 5 rows')\n",
        "print(spark_df.show(5))\n",
        "print()\n",
        "print('What are the variable data types?')\n",
        "print(spark_df.printSchema())\n",
        "print()\n",
        "print('How many observations do we have?')\n",
        "print(spark_df.count())"
      ],
      "metadata": {
        "colab": {
          "base_uri": "https://localhost:8080/"
        },
        "id": "AW44EdLAg3cn",
        "outputId": "3a003ef4-3e96-4a1b-eed1-3a43a2982de6"
      },
      "execution_count": 45,
      "outputs": [
        {
          "output_type": "stream",
          "name": "stdout",
          "text": [
            "Show the first 5 rows\n",
            "+----------------+-------------------+----------------+-----------------------------+------------------+\n",
            "|       date/time|lv activepower (kw)|wind speed (m/s)|theoretical_power_curve (kwh)|wind direction (°)|\n",
            "+----------------+-------------------+----------------+-----------------------------+------------------+\n",
            "|01 01 2018 00:00|   380.047790527343|5.31133604049682|             416.328907824861|  259.994903564453|\n",
            "|01 01 2018 00:10|    453.76919555664|5.67216682434082|             519.917511061494|   268.64111328125|\n",
            "|01 01 2018 00:20|   306.376586914062|5.21603679656982|             390.900015810951|  272.564788818359|\n",
            "|01 01 2018 00:30|   419.645904541015|5.65967416763305|             516.127568975674|  271.258087158203|\n",
            "|01 01 2018 00:40|   380.650695800781|5.57794094085693|             491.702971953588|  265.674285888671|\n",
            "+----------------+-------------------+----------------+-----------------------------+------------------+\n",
            "only showing top 5 rows\n",
            "\n",
            "None\n",
            "\n",
            "What are the variable data types?\n",
            "root\n",
            " |-- date/time: string (nullable = true)\n",
            " |-- lv activepower (kw): double (nullable = true)\n",
            " |-- wind speed (m/s): double (nullable = true)\n",
            " |-- theoretical_power_curve (kwh): double (nullable = true)\n",
            " |-- wind direction (°): double (nullable = true)\n",
            "\n",
            "None\n",
            "\n",
            "How many observations do we have?\n",
            "50530\n"
          ]
        }
      ]
    },
    {
      "cell_type": "code",
      "source": [
        "from pyspark.sql.functions import substring\n",
        "spark_df = spark_df.withColumn(\"month\", substring(\"date/time\", 4,2))\n",
        "spark_df = spark_df.withColumn(\"day\", substring(\"date/time\",1,2))\n",
        "spark_df = spark_df.withColumn(\"hour\", substring(\"date/time\", 12,2))\n",
        "spark_df = spark_df.withColumn(\"minute\", substring(\"date/time\", 15,2))\n",
        "\n",
        "\n",
        "from pyspark.sql.types import IntegerType\n",
        "spark_df = spark_df.withColumn('month', spark_df.month.cast(IntegerType()))\n",
        "spark_df = spark_df.withColumn('day', spark_df.day.cast(IntegerType()))\n",
        "spark_df = spark_df.withColumn('hour', spark_df.hour.cast(IntegerType()))\n",
        "spark_df = spark_df.withColumn('minute', spark_df.minute.cast(IntegerType()))\n",
        "\n",
        "print(spark_df.show(30))"
      ],
      "metadata": {
        "colab": {
          "base_uri": "https://localhost:8080/"
        },
        "id": "0ccuGf6Dg5N3",
        "outputId": "476ecd66-4652-409e-9bba-0228aae84b30"
      },
      "execution_count": 46,
      "outputs": [
        {
          "output_type": "stream",
          "name": "stdout",
          "text": [
            "+----------------+-------------------+----------------+-----------------------------+------------------+-----+---+----+------+\n",
            "|       date/time|lv activepower (kw)|wind speed (m/s)|theoretical_power_curve (kwh)|wind direction (°)|month|day|hour|minute|\n",
            "+----------------+-------------------+----------------+-----------------------------+------------------+-----+---+----+------+\n",
            "|01 01 2018 00:00|   380.047790527343|5.31133604049682|             416.328907824861|  259.994903564453|    1|  1|   0|     0|\n",
            "|01 01 2018 00:10|    453.76919555664|5.67216682434082|             519.917511061494|   268.64111328125|    1|  1|   0|    10|\n",
            "|01 01 2018 00:20|   306.376586914062|5.21603679656982|             390.900015810951|  272.564788818359|    1|  1|   0|    20|\n",
            "|01 01 2018 00:30|   419.645904541015|5.65967416763305|             516.127568975674|  271.258087158203|    1|  1|   0|    30|\n",
            "|01 01 2018 00:40|   380.650695800781|5.57794094085693|             491.702971953588|  265.674285888671|    1|  1|   0|    40|\n",
            "|01 01 2018 00:50|   402.391998291015|5.60405206680297|             499.436385024805|   264.57861328125|    1|  1|   0|    50|\n",
            "|01 01 2018 01:00|   447.605712890625|5.79300785064697|             557.372363290225|  266.163604736328|    1|  1|   1|     0|\n",
            "|01 01 2018 01:10|        387.2421875|5.30604982376098|             414.898178826186|  257.949493408203|    1|  1|   1|    10|\n",
            "|01 01 2018 01:20|   463.651214599609|5.58462905883789|             493.677652137077|  253.480697631835|    1|  1|   1|    20|\n",
            "|01 01 2018 01:30|   439.725708007812|5.52322816848754|             475.706782818068|   258.72378540039|    1|  1|   1|    30|\n",
            "|01 01 2018 01:40|   498.181701660156|5.72411584854125|             535.841397042263|  251.850997924804|    1|  1|   1|    40|\n",
            "|01 01 2018 01:50|   526.816223144531|5.93419885635375|             603.014076510633|  265.504699707031|    1|  1|   1|    50|\n",
            "|01 01 2018 02:00|   710.587280273437|6.54741382598876|             824.662513585882|   274.23291015625|    1|  1|   2|     0|\n",
            "|01 01 2018 02:10|   655.194274902343|6.19974613189697|             693.472641075637|  266.733184814453|    1|  1|   2|    10|\n",
            "|01 01 2018 02:20|   754.762512207031|6.50538301467895|             808.098138482693|   266.76040649414|    1|  1|   2|    20|\n",
            "|01 01 2018 02:30|   790.173278808593|6.63411617279052|             859.459020788565|  270.493194580078|    1|  1|   2|    30|\n",
            "|01 01 2018 02:40|   742.985290527343|6.37891292572021|             759.434536596592|  266.593292236328|    1|  1|   2|    40|\n",
            "|01 01 2018 02:50|   748.229614257812| 6.4466528892517|              785.28100987646|  265.571807861328|    1|  1|   2|    50|\n",
            "|01 01 2018 03:00|   736.647827148437|6.41508293151855|             773.172863451736|   261.15869140625|    1|  1|   3|     0|\n",
            "|01 01 2018 03:10|   787.246215820312|6.43753099441528|               781.7712157188|   257.56021118164|    1|  1|   3|    10|\n",
            "|01 01 2018 03:20|   722.864074707031|6.22002410888671|             700.764699868076|  255.926498413085|    1|  1|   3|    20|\n",
            "|01 01 2018 03:30|   935.033386230468|6.89802598953247|             970.736626881787|  250.012893676757|    1|  1|   3|    30|\n",
            "|01 01 2018 03:40|   1220.60900878906|7.60971117019653|             1315.04892785216|  255.985702514648|    1|  1|   3|    40|\n",
            "|01 01 2018 03:50|   1053.77197265625|7.28835582733154|             1151.26574355584|  255.444595336914|    1|  1|   3|    50|\n",
            "|01 01 2018 04:00|   1493.80798339843|7.94310188293457|             1497.58372354361|  256.407409667968|    1|  1|   4|     0|\n",
            "|01 01 2018 04:10|   1724.48803710937|8.37616157531738|             1752.19966204818|   252.41259765625|    1|  1|   4|    10|\n",
            "|01 01 2018 04:20|   1636.93505859375|8.23695755004882|             1668.47070685152|  247.979400634765|    1|  1|   4|    20|\n",
            "|01 01 2018 04:30|   1385.48803710937|7.87959098815917|             1461.81579081391|  238.609603881835|    1|  1|   4|    30|\n",
            "|01 01 2018 04:40|   1098.93200683593|7.10137605667114|             1062.28503444311|  245.095596313476|    1|  1|   4|    40|\n",
            "|01 01 2018 04:50|    1021.4580078125|6.95530700683593|             995.995854606612|  245.410202026367|    1|  1|   4|    50|\n",
            "+----------------+-------------------+----------------+-----------------------------+------------------+-----+---+----+------+\n",
            "only showing top 30 rows\n",
            "\n",
            "None\n"
          ]
        }
      ]
    },
    {
      "cell_type": "code",
      "source": [
        "# Average power production by month\n",
        "monthly = spark_df.groupby('month').mean('lv activepower (kw)').sort('avg(lv activepower (kw))').toPandas()\n",
        "sns.barplot(x='month', y='avg(lv activepower (kw))', data=monthly)\n",
        "plt.title('Months and Average Power Production');"
      ],
      "metadata": {
        "colab": {
          "base_uri": "https://localhost:8080/",
          "height": 295
        },
        "id": "JcZCMu2Pg-zx",
        "outputId": "6e7c7c73-3d91-4e31-b524-9369520ff6d6"
      },
      "execution_count": 47,
      "outputs": [
        {
          "output_type": "display_data",
          "data": {
            "text/plain": [
              "<Figure size 432x288 with 1 Axes>"
            ],
            "image/png": "[encoded data removed]"
          },
          "metadata": {
            "needs_background": "light"
          }
        }
      ]
    },
    {
      "cell_type": "code",
      "source": [
        "# Finding average power production for 5 m/s wind speed increments\n",
        "wind_speed = []\n",
        "avg_power = []\n",
        "for i in [0,5,10,15,20]:\n",
        "    avg_value = spark_df.filter((spark_df['wind speed (m/s)'] > i) \n",
        "                                & (spark_df['wind speed (m/s)'] <= i+5))\\\n",
        "                                .agg({'lv activepower (kw)':'mean'}).collect()[0][0] \n",
        "    avg_power.append(avg_value)\n",
        "    wind_speed.append(str(i) + '-' + str(i+5))\n",
        "\n",
        "sns.barplot(x=wind_speed, y=avg_power, color='orange')\n",
        "plt.title('Avg Power Production for 5 m/s Wind Speed Increments')\n",
        "plt.xlabel('Wind Speed')\n",
        "plt.ylabel('Average Power Production');"
      ],
      "metadata": {
        "colab": {
          "base_uri": "https://localhost:8080/",
          "height": 295
        },
        "id": "UX6K2FxZhAD0",
        "outputId": "6daa192b-fd29-481d-e78e-f5c98d4480c5"
      },
      "execution_count": 48,
      "outputs": [
        {
          "output_type": "display_data",
          "data": {
            "text/plain": [
              "<Figure size 432x288 with 1 Axes>"
            ],
            "image/png": "[encoded data removed]"
          },
          "metadata": {
            "needs_background": "light"
          }
        }
      ]
    },
    {
      "cell_type": "code",
      "source": [
        "# Filter the big data where the real and theoritical power productions are equal to 0\n",
        "zero_theo_power = spark_df.filter((spark_df['lv activepower (kw)'] == 0)\n",
        "                                  & (spark_df['theoretical_power_curve (kwh)'] == 0)).toPandas()\n",
        "\n",
        "display(zero_theo_power[['wind speed (m/s)', 'theoretical_power_curve (kwh)', 'lv activepower (kw)']].sample(5))\n",
        "\n",
        "# Let's see the wind speed distribution for 0 power production\n",
        "zero_theo_power['wind speed (m/s)'].hist()\n",
        "plt.title('Wind Speed Distribution for 0 Power Production')\n",
        "plt.xlabel('Wind speed (m/s)')\n",
        "plt.ylabel('Counts for 0 Power Production');"
      ],
      "metadata": {
        "colab": {
          "base_uri": "https://localhost:8080/",
          "height": 484
        },
        "id": "Yu5wobSBhBYP",
        "outputId": "30124315-e0e3-408d-a424-682b53e08383"
      },
      "execution_count": 49,
      "outputs": [
        {
          "output_type": "display_data",
          "data": {
            "text/plain": [
              "      wind speed (m/s)  theoretical_power_curve (kwh)  lv activepower (kw)\n",
              "18            1.757177                            0.0                  0.0\n",
              "2044          1.475465                            0.0                  0.0\n",
              "462           2.328350                            0.0                  0.0\n",
              "3591          1.471564                            0.0                  0.0\n",
              "6148          1.724973                            0.0                  0.0"
            ],
            "text/html": [
              "\n",
              "  <div id=\"df-3a303419-445b-40e9-9bc9-aac7711e29c0\">\n",
              "    <div class=\"colab-df-container\">\n",
              "      <div>\n",
              "<style scoped>\n",
              "    .dataframe tbody tr th:only-of-type {\n",
              "        vertical-align: middle;\n",
              "    }\n",
              "\n",
              "    .dataframe tbody tr th {\n",
              "        vertical-align: top;\n",
              "    }\n",
              "\n",
              "    .dataframe thead th {\n",
              "        text-align: right;\n",
              "    }\n",
              "</style>\n",
              "<table border=\"1\" class=\"dataframe\">\n",
              "  <thead>\n",
              "    <tr style=\"text-align: right;\">\n",
              "      <th></th>\n",
              "      <th>wind speed (m/s)</th>\n",
              "      <th>theoretical_power_curve (kwh)</th>\n",
              "      <th>lv activepower (kw)</th>\n",
              "    </tr>\n",
              "  </thead>\n",
              "  <tbody>\n",
              "    <tr>\n",
              "      <th>18</th>\n",
              "      <td>1.757177</td>\n",
              "      <td>0.0</td>\n",
              "      <td>0.0</td>\n",
              "    </tr>\n",
              "    <tr>\n",
              "      <th>2044</th>\n",
              "      <td>1.475465</td>\n",
              "      <td>0.0</td>\n",
              "      <td>0.0</td>\n",
              "    </tr>\n",
              "    <tr>\n",
              "      <th>462</th>\n",
              "      <td>2.328350</td>\n",
              "      <td>0.0</td>\n",
              "      <td>0.0</td>\n",
              "    </tr>\n",
              "    <tr>\n",
              "      <th>3591</th>\n",
              "      <td>1.471564</td>\n",
              "      <td>0.0</td>\n",
              "      <td>0.0</td>\n",
              "    </tr>\n",
              "    <tr>\n",
              "      <th>6148</th>\n",
              "      <td>1.724973</td>\n",
              "      <td>0.0</td>\n",
              "      <td>0.0</td>\n",
              "    </tr>\n",
              "  </tbody>\n",
              "</table>\n",
              "</div>\n",
              "      <button class=\"colab-df-convert\" onclick=\"convertToInteractive('df-3a303419-445b-40e9-9bc9-aac7711e29c0')\"\n",
              "              title=\"Convert this dataframe to an interactive table.\"\n",
              "              style=\"display:none;\">\n",
              "        \n",
              "  <svg xmlns=\"http://www.w3.org/2000/svg\" height=\"24px\"viewBox=\"0 0 24 24\"\n",
              "       width=\"24px\">\n",
              "    <path d=\"M0 0h24v24H0V0z\" fill=\"none\"/>\n",
              "    <path d=\"M18.56 5.44l.94 2.06.94-2.06 2.06-.94-2.06-.94-.94-2.06-.94 2.06-2.06.94zm-11 1L8.5 8.5l.94-2.06 2.06-.94-2.06-.94L8.5 2.5l-.94 2.06-2.06.94zm10 10l.94 2.06.94-2.06 2.06-.94-2.06-.94-.94-2.06-.94 2.06-2.06.94z\"/><path d=\"M17.41 7.96l-1.37-1.37c-.4-.4-.92-.59-1.43-.59-.52 0-1.04.2-1.43.59L10.3 9.45l-7.72 7.72c-.78.78-.78 2.05 0 2.83L4 21.41c.39.39.9.59 1.41.59.51 0 1.02-.2 1.41-.59l7.78-7.78 2.81-2.81c.8-.78.8-2.07 0-2.86zM5.41 20L4 18.59l7.72-7.72 1.47 1.35L5.41 20z\"/>\n",
              "  </svg>\n",
              "      </button>\n",
              "      \n",
              "  <style>\n",
              "    .colab-df-container {\n",
              "      display:flex;\n",
              "      flex-wrap:wrap;\n",
              "      gap: 12px;\n",
              "    }\n",
              "\n",
              "    .colab-df-convert {\n",
              "      background-color: #E8F0FE;\n",
              "      border: none;\n",
              "      border-radius: 50%;\n",
              "      cursor: pointer;\n",
              "      display: none;\n",
              "      fill: #1967D2;\n",
              "      height: 32px;\n",
              "      padding: 0 0 0 0;\n",
              "      width: 32px;\n",
              "    }\n",
              "\n",
              "    .colab-df-convert:hover {\n",
              "      background-color: #E2EBFA;\n",
              "      box-shadow: 0px 1px 2px rgba(60, 64, 67, 0.3), 0px 1px 3px 1px rgba(60, 64, 67, 0.15);\n",
              "      fill: #174EA6;\n",
              "    }\n",
              "\n",
              "    [theme=dark] .colab-df-convert {\n",
              "      background-color: #3B4455;\n",
              "      fill: #D2E3FC;\n",
              "    }\n",
              "\n",
              "    [theme=dark] .colab-df-convert:hover {\n",
              "      background-color: #434B5C;\n",
              "      box-shadow: 0px 1px 3px 1px rgba(0, 0, 0, 0.15);\n",
              "      filter: drop-shadow(0px 1px 2px rgba(0, 0, 0, 0.3));\n",
              "      fill: #FFFFFF;\n",
              "    }\n",
              "  </style>\n",
              "\n",
              "      <script>\n",
              "        const buttonEl =\n",
              "          document.querySelector('#df-3a303419-445b-40e9-9bc9-aac7711e29c0 button.colab-df-convert');\n",
              "        buttonEl.style.display =\n",
              "          google.colab.kernel.accessAllowed ? 'block' : 'none';\n",
              "\n",
              "        async function convertToInteractive(key) {\n",
              "          const element = document.querySelector('#df-3a303419-445b-40e9-9bc9-aac7711e29c0');\n",
              "          const dataTable =\n",
              "            await google.colab.kernel.invokeFunction('convertToInteractive',\n",
              "                                                     [key], {});\n",
              "          if (!dataTable) return;\n",
              "\n",
              "          const docLinkHtml = 'Like what you see? Visit the ' +\n",
              "            '<a target=\"_blank\" href=https://colab.research.google.com/notebooks/data_table.ipynb>data table notebook</a>'\n",
              "            + ' to learn more about interactive tables.';\n",
              "          element.innerHTML = '';\n",
              "          dataTable['output_type'] = 'display_data';\n",
              "          await google.colab.output.renderOutput(dataTable, element);\n",
              "          const docLink = document.createElement('div');\n",
              "          docLink.innerHTML = docLinkHtml;\n",
              "          element.appendChild(docLink);\n",
              "        }\n",
              "      </script>\n",
              "    </div>\n",
              "  </div>\n",
              "  "
            ]
          },
          "metadata": {}
        },
        {
          "output_type": "display_data",
          "data": {
            "text/plain": [
              "<Figure size 432x288 with 1 Axes>"
            ],
            "image/png": "[encoded data removed]"
          },
          "metadata": {
            "needs_background": "light"
          }
        }
      ]
    },
    {
      "cell_type": "code",
      "source": [
        "# Observations for the wind speed > 3m/s and power production = 0, \n",
        "# While theoritically there should be power production\n",
        "zero_power = spark_df.filter((spark_df['lv activepower (kw)'] == 0)\n",
        "                            & (spark_df['theoretical_power_curve (kwh)'] != 0)\n",
        "                            & (spark_df['wind speed (m/s)'] > 3)).toPandas()\n",
        "display(zero_power.head())\n",
        "print('No of Observations (while Wind Speed > 3 m/s and Power Production = 0): ', len(zero_power))"
      ],
      "metadata": {
        "colab": {
          "base_uri": "https://localhost:8080/",
          "height": 224
        },
        "id": "8ORp5HmVhC-I",
        "outputId": "8bfc7911-0a0c-418b-9f24-29b53ef897bd"
      },
      "execution_count": 50,
      "outputs": [
        {
          "output_type": "display_data",
          "data": {
            "text/plain": [
              "          date/time  lv activepower (kw)  wind speed (m/s)  \\\n",
              "0  03 01 2018 15:40                  0.0          3.743307   \n",
              "1  03 01 2018 16:40                  0.0          3.034003   \n",
              "2  03 01 2018 16:50                  0.0          3.197354   \n",
              "3  03 01 2018 17:00                  0.0          3.907811   \n",
              "4  04 01 2018 13:50                  0.0          3.441704   \n",
              "\n",
              "   theoretical_power_curve (kwh)  wind direction (°)  month  day  hour  minute  \n",
              "0                      83.986265          245.068207      1    3    15      40  \n",
              "1                      17.180593          221.086502      1    3    16      40  \n",
              "2                      25.431221          232.679596      1    3    16      50  \n",
              "3                     110.979604          241.973099      1    3    17       0  \n",
              "4                      45.742725           79.094109      1    4    13      50  "
            ],
            "text/html": [
              "\n",
              "  <div id=\"df-b398d4d6-80dc-4fa2-9db5-eb583ebf88a1\">\n",
              "    <div class=\"colab-df-container\">\n",
              "      <div>\n",
              "<style scoped>\n",
              "    .dataframe tbody tr th:only-of-type {\n",
              "        vertical-align: middle;\n",
              "    }\n",
              "\n",
              "    .dataframe tbody tr th {\n",
              "        vertical-align: top;\n",
              "    }\n",
              "\n",
              "    .dataframe thead th {\n",
              "        text-align: right;\n",
              "    }\n",
              "</style>\n",
              "<table border=\"1\" class=\"dataframe\">\n",
              "  <thead>\n",
              "    <tr style=\"text-align: right;\">\n",
              "      <th></th>\n",
              "      <th>date/time</th>\n",
              "      <th>lv activepower (kw)</th>\n",
              "      <th>wind speed (m/s)</th>\n",
              "      <th>theoretical_power_curve (kwh)</th>\n",
              "      <th>wind direction (°)</th>\n",
              "      <th>month</th>\n",
              "      <th>day</th>\n",
              "      <th>hour</th>\n",
              "      <th>minute</th>\n",
              "    </tr>\n",
              "  </thead>\n",
              "  <tbody>\n",
              "    <tr>\n",
              "      <th>0</th>\n",
              "      <td>03 01 2018 15:40</td>\n",
              "      <td>0.0</td>\n",
              "      <td>3.743307</td>\n",
              "      <td>83.986265</td>\n",
              "      <td>245.068207</td>\n",
              "      <td>1</td>\n",
              "      <td>3</td>\n",
              "      <td>15</td>\n",
              "      <td>40</td>\n",
              "    </tr>\n",
              "    <tr>\n",
              "      <th>1</th>\n",
              "      <td>03 01 2018 16:40</td>\n",
              "      <td>0.0</td>\n",
              "      <td>3.034003</td>\n",
              "      <td>17.180593</td>\n",
              "      <td>221.086502</td>\n",
              "      <td>1</td>\n",
              "      <td>3</td>\n",
              "      <td>16</td>\n",
              "      <td>40</td>\n",
              "    </tr>\n",
              "    <tr>\n",
              "      <th>2</th>\n",
              "      <td>03 01 2018 16:50</td>\n",
              "      <td>0.0</td>\n",
              "      <td>3.197354</td>\n",
              "      <td>25.431221</td>\n",
              "      <td>232.679596</td>\n",
              "      <td>1</td>\n",
              "      <td>3</td>\n",
              "      <td>16</td>\n",
              "      <td>50</td>\n",
              "    </tr>\n",
              "    <tr>\n",
              "      <th>3</th>\n",
              "      <td>03 01 2018 17:00</td>\n",
              "      <td>0.0</td>\n",
              "      <td>3.907811</td>\n",
              "      <td>110.979604</td>\n",
              "      <td>241.973099</td>\n",
              "      <td>1</td>\n",
              "      <td>3</td>\n",
              "      <td>17</td>\n",
              "      <td>0</td>\n",
              "    </tr>\n",
              "    <tr>\n",
              "      <th>4</th>\n",
              "      <td>04 01 2018 13:50</td>\n",
              "      <td>0.0</td>\n",
              "      <td>3.441704</td>\n",
              "      <td>45.742725</td>\n",
              "      <td>79.094109</td>\n",
              "      <td>1</td>\n",
              "      <td>4</td>\n",
              "      <td>13</td>\n",
              "      <td>50</td>\n",
              "    </tr>\n",
              "  </tbody>\n",
              "</table>\n",
              "</div>\n",
              "      <button class=\"colab-df-convert\" onclick=\"convertToInteractive('df-b398d4d6-80dc-4fa2-9db5-eb583ebf88a1')\"\n",
              "              title=\"Convert this dataframe to an interactive table.\"\n",
              "              style=\"display:none;\">\n",
              "        \n",
              "  <svg xmlns=\"http://www.w3.org/2000/svg\" height=\"24px\"viewBox=\"0 0 24 24\"\n",
              "       width=\"24px\">\n",
              "    <path d=\"M0 0h24v24H0V0z\" fill=\"none\"/>\n",
              "    <path d=\"M18.56 5.44l.94 2.06.94-2.06 2.06-.94-2.06-.94-.94-2.06-.94 2.06-2.06.94zm-11 1L8.5 8.5l.94-2.06 2.06-.94-2.06-.94L8.5 2.5l-.94 2.06-2.06.94zm10 10l.94 2.06.94-2.06 2.06-.94-2.06-.94-.94-2.06-.94 2.06-2.06.94z\"/><path d=\"M17.41 7.96l-1.37-1.37c-.4-.4-.92-.59-1.43-.59-.52 0-1.04.2-1.43.59L10.3 9.45l-7.72 7.72c-.78.78-.78 2.05 0 2.83L4 21.41c.39.39.9.59 1.41.59.51 0 1.02-.2 1.41-.59l7.78-7.78 2.81-2.81c.8-.78.8-2.07 0-2.86zM5.41 20L4 18.59l7.72-7.72 1.47 1.35L5.41 20z\"/>\n",
              "  </svg>\n",
              "      </button>\n",
              "      \n",
              "  <style>\n",
              "    .colab-df-container {\n",
              "      display:flex;\n",
              "      flex-wrap:wrap;\n",
              "      gap: 12px;\n",
              "    }\n",
              "\n",
              "    .colab-df-convert {\n",
              "      background-color: #E8F0FE;\n",
              "      border: none;\n",
              "      border-radius: 50%;\n",
              "      cursor: pointer;\n",
              "      display: none;\n",
              "      fill: #1967D2;\n",
              "      height: 32px;\n",
              "      padding: 0 0 0 0;\n",
              "      width: 32px;\n",
              "    }\n",
              "\n",
              "    .colab-df-convert:hover {\n",
              "      background-color: #E2EBFA;\n",
              "      box-shadow: 0px 1px 2px rgba(60, 64, 67, 0.3), 0px 1px 3px 1px rgba(60, 64, 67, 0.15);\n",
              "      fill: #174EA6;\n",
              "    }\n",
              "\n",
              "    [theme=dark] .colab-df-convert {\n",
              "      background-color: #3B4455;\n",
              "      fill: #D2E3FC;\n",
              "    }\n",
              "\n",
              "    [theme=dark] .colab-df-convert:hover {\n",
              "      background-color: #434B5C;\n",
              "      box-shadow: 0px 1px 3px 1px rgba(0, 0, 0, 0.15);\n",
              "      filter: drop-shadow(0px 1px 2px rgba(0, 0, 0, 0.3));\n",
              "      fill: #FFFFFF;\n",
              "    }\n",
              "  </style>\n",
              "\n",
              "      <script>\n",
              "        const buttonEl =\n",
              "          document.querySelector('#df-b398d4d6-80dc-4fa2-9db5-eb583ebf88a1 button.colab-df-convert');\n",
              "        buttonEl.style.display =\n",
              "          google.colab.kernel.accessAllowed ? 'block' : 'none';\n",
              "\n",
              "        async function convertToInteractive(key) {\n",
              "          const element = document.querySelector('#df-b398d4d6-80dc-4fa2-9db5-eb583ebf88a1');\n",
              "          const dataTable =\n",
              "            await google.colab.kernel.invokeFunction('convertToInteractive',\n",
              "                                                     [key], {});\n",
              "          if (!dataTable) return;\n",
              "\n",
              "          const docLinkHtml = 'Like what you see? Visit the ' +\n",
              "            '<a target=\"_blank\" href=https://colab.research.google.com/notebooks/data_table.ipynb>data table notebook</a>'\n",
              "            + ' to learn more about interactive tables.';\n",
              "          element.innerHTML = '';\n",
              "          dataTable['output_type'] = 'display_data';\n",
              "          await google.colab.output.renderOutput(dataTable, element);\n",
              "          const docLink = document.createElement('div');\n",
              "          docLink.innerHTML = docLinkHtml;\n",
              "          element.appendChild(docLink);\n",
              "        }\n",
              "      </script>\n",
              "    </div>\n",
              "  </div>\n",
              "  "
            ]
          },
          "metadata": {}
        },
        {
          "output_type": "stream",
          "name": "stdout",
          "text": [
            "No of Observations (while Wind Speed > 3 m/s and Power Production = 0):  3497\n"
          ]
        }
      ]
    },
    {
      "cell_type": "code",
      "source": [
        "zero_power['wind speed (m/s)'].plot.hist(bins=8)\n",
        "plt.xlabel('Wind Speed (m/s)')\n",
        "plt.ylabel('Counts for Zero Production')\n",
        "plt.title('Wind Speed Counts for Zero Power Production')\n",
        "plt.xticks(ticks=np.arange(4,18,2));"
      ],
      "metadata": {
        "colab": {
          "base_uri": "https://localhost:8080/",
          "height": 295
        },
        "id": "Z_HFvsgnhERw",
        "outputId": "8c39d797-5b94-4576-85ce-4d37c9c0d559"
      },
      "execution_count": 51,
      "outputs": [
        {
          "output_type": "display_data",
          "data": {
            "text/plain": [
              "<Figure size 432x288 with 1 Axes>"
            ],
            "image/png": "[encoded data removed]"
          },
          "metadata": {
            "needs_background": "light"
          }
        }
      ]
    },
    {
      "cell_type": "code",
      "source": [
        "# Excluding the observations meeting the filter criterias \n",
        "spark_df = spark_df.filter(~((spark_df['lv activepower (kw)'] == 0)\n",
        "                            & (spark_df['theoretical_power_curve (kwh)'] != 0)\n",
        "                            & (spark_df['wind speed (m/s)'] > 3)))"
      ],
      "metadata": {
        "id": "bxB7baF_hFis"
      },
      "execution_count": 52,
      "outputs": []
    },
    {
      "cell_type": "code",
      "source": [
        "# Create a pandas df for visualization\n",
        "wind_speed = spark_df.select('wind speed (m/s)').toPandas()\n",
        "\n",
        "# Defining the quantiles and interquantile range\n",
        "Q1 = wind_speed['wind speed (m/s)'].quantile(0.25)\n",
        "Q3 = wind_speed['wind speed (m/s)'].quantile(0.75)\n",
        "IQR = Q3-Q1\n",
        "# Defining the lower and upper threshold values\n",
        "lower = Q1 - 1.5*IQR\n",
        "upper = Q3 + 1.5*IQR\n",
        "\n",
        "print('Quantile (0.25): ', Q1, '  Quantile (0.75): ', Q3)\n",
        "print('Lower threshold: ', lower, ' Upper threshold: ', upper)"
      ],
      "metadata": {
        "colab": {
          "base_uri": "https://localhost:8080/"
        },
        "id": "hyhkF6jBhGxu",
        "outputId": "5af7ecf5-6444-4eb7-ee03-b49f6c323903"
      },
      "execution_count": 53,
      "outputs": [
        {
          "output_type": "stream",
          "name": "stdout",
          "text": [
            "Quantile (0.25):  4.45584678649902   Quantile (0.75):  10.4771900177001\n",
            "Lower threshold:  -4.576168060302599  Upper threshold:  19.50920486450172\n"
          ]
        }
      ]
    },
    {
      "cell_type": "code",
      "source": [
        "# Fancy indexing for outliers\n",
        "outlier_tf = (wind_speed['wind speed (m/s)'] < lower) | (wind_speed['wind speed (m/s)'] > upper)\n",
        "\n",
        "print('Total Number of Outliers: ', len(wind_speed['wind speed (m/s)'][outlier_tf]))\n",
        "print('--'*15)\n",
        "print('Some Examples of Outliers:')\n",
        "print(wind_speed['wind speed (m/s)'][outlier_tf].sample(10))"
      ],
      "metadata": {
        "colab": {
          "base_uri": "https://localhost:8080/"
        },
        "id": "avl2I3LlhH37",
        "outputId": "28903133-fbe6-4f8f-a883-4d2465ba148f"
      },
      "execution_count": 54,
      "outputs": [
        {
          "output_type": "stream",
          "name": "stdout",
          "text": [
            "Total Number of Outliers:  407\n",
            "------------------------------\n",
            "Some Examples of Outliers:\n",
            "3412     19.759399\n",
            "3533     23.056530\n",
            "6657     19.819309\n",
            "42810    19.585171\n",
            "3243     20.240870\n",
            "3537     20.741369\n",
            "2123     21.599480\n",
            "8906     20.786770\n",
            "6947     20.367630\n",
            "2094     20.408730\n",
            "Name: wind speed (m/s), dtype: float64\n"
          ]
        }
      ]
    },
    {
      "cell_type": "code",
      "source": [
        "spark_df.select('wind speed (m/s)', 'lv activepower (kw)')\\\n",
        ".filter(spark_df['wind speed (m/s)'] >= 19)\\\n",
        ".agg({'lv activepower (kw)':'mean'}).show()"
      ],
      "metadata": {
        "colab": {
          "base_uri": "https://localhost:8080/"
        },
        "id": "k_0Z7lFlhJBG",
        "outputId": "eb2b7753-c523-4691-fe64-fcb748be364c"
      },
      "execution_count": 55,
      "outputs": [
        {
          "output_type": "stream",
          "name": "stdout",
          "text": [
            "+------------------------+\n",
            "|avg(lv activepower (kw))|\n",
            "+------------------------+\n",
            "|      3566.4634427974706|\n",
            "+------------------------+\n",
            "\n"
          ]
        }
      ]
    },
    {
      "cell_type": "code",
      "source": [
        "from pyspark.sql import functions as F\n",
        "spark_df = spark_df.withColumn('wind speed (m/s)', \n",
        "                               F.when(F.col('wind speed (m/s)') > 19.447, 19)\n",
        "                               .otherwise(F.col('wind speed (m/s)')))\n",
        "spark_df.count()"
      ],
      "metadata": {
        "colab": {
          "base_uri": "https://localhost:8080/"
        },
        "id": "X9yLUwAHhKJX",
        "outputId": "a80f28c0-0c93-4d9e-e495-7a0b98e64c0b"
      },
      "execution_count": 56,
      "outputs": [
        {
          "output_type": "execute_result",
          "data": {
            "text/plain": [
              "47033"
            ]
          },
          "metadata": {},
          "execution_count": 56
        }
      ]
    },
    {
      "cell_type": "code",
      "source": [
        "# High level power production\n",
        "spark_df.filter(((spark_df['month'] == 3) | (spark_df['month'] == 8) | (spark_df['month'] == 11)) \n",
        "                & ((spark_df['hour'] >= 16) | (spark_df['hour'] <= 24)) \n",
        "                & ((spark_df['wind direction (°)'] > 0) | (spark_df['wind direction (°)'] < 90))\n",
        "                & ((spark_df['wind direction (°)'] > 180) | (spark_df['wind direction (°)'] < 225))\n",
        "               ).agg({'lv activepower (kw)':'mean'}).show()"
      ],
      "metadata": {
        "colab": {
          "base_uri": "https://localhost:8080/"
        },
        "id": "zHTJiMbNhLTS",
        "outputId": "31936629-89a2-4e12-b3ff-20e0ec7e4033"
      },
      "execution_count": 57,
      "outputs": [
        {
          "output_type": "stream",
          "name": "stdout",
          "text": [
            "+------------------------+\n",
            "|avg(lv activepower (kw))|\n",
            "+------------------------+\n",
            "|      2013.4446757880403|\n",
            "+------------------------+\n",
            "\n"
          ]
        }
      ]
    },
    {
      "cell_type": "code",
      "source": [
        "# Low level power production\n",
        "spark_df.filter((spark_df['month'] == 7) \n",
        "                & ((spark_df['hour'] >= 9) | (spark_df['hour'] <= 11)) \n",
        "                & ((spark_df['wind direction (°)'] > 90) | (spark_df['wind direction (°)'] < 160))\n",
        "               ).agg({'lv activepower (kw)':'mean'}).show()"
      ],
      "metadata": {
        "colab": {
          "base_uri": "https://localhost:8080/"
        },
        "id": "JP-3v8JwhMYw",
        "outputId": "cb5c1ee5-6d9d-40b3-c102-12a476e33733"
      },
      "execution_count": 58,
      "outputs": [
        {
          "output_type": "stream",
          "name": "stdout",
          "text": [
            "+------------------------+\n",
            "|avg(lv activepower (kw))|\n",
            "+------------------------+\n",
            "|       503.1644205414878|\n",
            "+------------------------+\n",
            "\n"
          ]
        }
      ]
    },
    {
      "cell_type": "markdown",
      "source": [
        "## Preparing for ML"
      ],
      "metadata": {
        "id": "z1mqt3JHhPqL"
      }
    },
    {
      "cell_type": "code",
      "source": [
        "# Preparing the independent variables (Features)\n",
        "from pyspark.ml.feature import VectorAssembler\n",
        "\n",
        "# Converting lv activepower (kw) variable as label\n",
        "spark_df = spark_df.withColumn('label', spark_df['lv activepower (kw)'])\n",
        "spark_df = spark_df.drop('theoretical_power_curve (kwh)')"
      ],
      "metadata": {
        "id": "7nkZAJKDhRoF"
      },
      "execution_count": 59,
      "outputs": []
    },
    {
      "cell_type": "code",
      "source": [
        "spark_timestamp_df = spark_df.withColumn(\"timestamp\",to_timestamp(col(\"date/time\"),\"dd MM yyyy HH:mm\")).drop(\"date/time\", \"lv activepower (kw)\")\n",
        "spark_timestamp_df.count()"
      ],
      "metadata": {
        "colab": {
          "base_uri": "https://localhost:8080/"
        },
        "id": "NcyoPslfhVAq",
        "outputId": "09127ce3-3219-4f15-b3ef-c1f309cc4c78"
      },
      "execution_count": 60,
      "outputs": [
        {
          "output_type": "execute_result",
          "data": {
            "text/plain": [
              "47033"
            ]
          },
          "metadata": {},
          "execution_count": 60
        }
      ]
    },
    {
      "cell_type": "code",
      "source": [
        "spark_timestamp_df.columns"
      ],
      "metadata": {
        "colab": {
          "base_uri": "https://localhost:8080/"
        },
        "id": "P_6yywKahWMS",
        "outputId": "817e7613-ad98-4412-ee82-7abe70c6aaf9"
      },
      "execution_count": 61,
      "outputs": [
        {
          "output_type": "execute_result",
          "data": {
            "text/plain": [
              "['wind speed (m/s)',\n",
              " 'wind direction (°)',\n",
              " 'month',\n",
              " 'day',\n",
              " 'hour',\n",
              " 'minute',\n",
              " 'label',\n",
              " 'timestamp']"
            ]
          },
          "metadata": {},
          "execution_count": 61
        }
      ]
    },
    {
      "cell_type": "code",
      "source": [
        "df_pandas = spark_timestamp_df.toPandas()\n",
        "rename_dictionary = {'wind speed (m/s)' : 'wind_speed', 'wind direction (°)' : 'wind_direction'}\n",
        "df_pandas.rename(columns=rename_dictionary, inplace=True)"
      ],
      "metadata": {
        "id": "TYGtJi4khXXv"
      },
      "execution_count": 62,
      "outputs": []
    },
    {
      "cell_type": "code",
      "source": [
        "df_pandas.columns"
      ],
      "metadata": {
        "colab": {
          "base_uri": "https://localhost:8080/"
        },
        "id": "Qy_GEMVShYfp",
        "outputId": "0f250186-50cc-4f5f-b885-57d7ebcc2a66"
      },
      "execution_count": 63,
      "outputs": [
        {
          "output_type": "execute_result",
          "data": {
            "text/plain": [
              "Index(['wind_speed', 'wind_direction', 'month', 'day', 'hour', 'minute',\n",
              "       'label', 'timestamp'],\n",
              "      dtype='object')"
            ]
          },
          "metadata": {},
          "execution_count": 63
        }
      ]
    },
    {
      "cell_type": "markdown",
      "source": [
        "## Standard Scaling"
      ],
      "metadata": {
        "id": "2U_V6psFhoUu"
      }
    },
    {
      "cell_type": "code",
      "source": [
        "from sklearn.preprocessing import StandardScaler\n",
        "scaler = StandardScaler()\n",
        "columns_to_scale = [\"wind_speed\",\"wind_direction\",\"month\",\"day\",\"hour\", \"minute\", \"label\"]\n",
        "df_scaled = df_pandas.copy()\n",
        "scaling_dict = {}\n",
        "for col in columns_to_scale:\n",
        "    df_scaled[col] = scaler.fit_transform(np.array(df_scaled[col]).reshape(-1,1))\n",
        "    scaling_dict[col] = [scaler.mean_, np.sqrt(scaler.var_)]\n",
        "df_scaled"
      ],
      "metadata": {
        "colab": {
          "base_uri": "https://localhost:8080/",
          "height": 424
        },
        "id": "o_3xNXzphrEJ",
        "outputId": "474e058a-badf-4e52-f363-fd7e82142f8c"
      },
      "execution_count": 64,
      "outputs": [
        {
          "output_type": "execute_result",
          "data": {
            "text/plain": [
              "       wind_speed  wind_direction     month       day      hour    minute  \\\n",
              "0       -0.562532        1.469800 -1.669781 -1.682987 -1.665854 -1.462890   \n",
              "1       -0.477149        1.563055 -1.669781 -1.682987 -1.665854 -0.877278   \n",
              "2       -0.585082        1.605374 -1.669781 -1.682987 -1.665854 -0.291667   \n",
              "3       -0.480105        1.591281 -1.669781 -1.682987 -1.665854  0.293945   \n",
              "4       -0.499445        1.531056 -1.669781 -1.682987 -1.665854  0.879557   \n",
              "...           ...             ...       ...       ...       ...       ...   \n",
              "47028    0.879179       -0.466141  1.625784  1.790039  1.643251 -0.877278   \n",
              "47029   -0.084230       -0.427745  1.625784  1.790039  1.643251 -0.291667   \n",
              "47030    0.176704       -0.420412  1.625784  1.790039  1.643251  0.293945   \n",
              "47031    0.410022       -0.425207  1.625784  1.790039  1.643251  0.879557   \n",
              "47032    0.542054       -0.447029  1.625784  1.790039  1.643251  1.465168   \n",
              "\n",
              "          label           timestamp  \n",
              "0     -0.782822 2018-01-01 00:00:00  \n",
              "1     -0.726511 2018-01-01 00:10:00  \n",
              "2     -0.839094 2018-01-01 00:20:00  \n",
              "3     -0.752575 2018-01-01 00:30:00  \n",
              "4     -0.782361 2018-01-01 00:40:00  \n",
              "...         ...                 ...  \n",
              "47028  1.190860 2018-12-31 23:10:00  \n",
              "47029  0.213444 2018-12-31 23:20:00  \n",
              "47030  0.608155 2018-12-31 23:30:00  \n",
              "47031  0.848446 2018-12-31 23:40:00  \n",
              "47032  1.081240 2018-12-31 23:50:00  \n",
              "\n",
              "[47033 rows x 8 columns]"
            ],
            "text/html": [
              "\n",
              "  <div id=\"df-3ea274ea-2cda-43fd-ac86-285df4b30ffc\">\n",
              "    <div class=\"colab-df-container\">\n",
              "      <div>\n",
              "<style scoped>\n",
              "    .dataframe tbody tr th:only-of-type {\n",
              "        vertical-align: middle;\n",
              "    }\n",
              "\n",
              "    .dataframe tbody tr th {\n",
              "        vertical-align: top;\n",
              "    }\n",
              "\n",
              "    .dataframe thead th {\n",
              "        text-align: right;\n",
              "    }\n",
              "</style>\n",
              "<table border=\"1\" class=\"dataframe\">\n",
              "  <thead>\n",
              "    <tr style=\"text-align: right;\">\n",
              "      <th></th>\n",
              "      <th>wind_speed</th>\n",
              "      <th>wind_direction</th>\n",
              "      <th>month</th>\n",
              "      <th>day</th>\n",
              "      <th>hour</th>\n",
              "      <th>minute</th>\n",
              "      <th>label</th>\n",
              "      <th>timestamp</th>\n",
              "    </tr>\n",
              "  </thead>\n",
              "  <tbody>\n",
              "    <tr>\n",
              "      <th>0</th>\n",
              "      <td>-0.562532</td>\n",
              "      <td>1.469800</td>\n",
              "      <td>-1.669781</td>\n",
              "      <td>-1.682987</td>\n",
              "      <td>-1.665854</td>\n",
              "      <td>-1.462890</td>\n",
              "      <td>-0.782822</td>\n",
              "      <td>2018-01-01 00:00:00</td>\n",
              "    </tr>\n",
              "    <tr>\n",
              "      <th>1</th>\n",
              "      <td>-0.477149</td>\n",
              "      <td>1.563055</td>\n",
              "      <td>-1.669781</td>\n",
              "      <td>-1.682987</td>\n",
              "      <td>-1.665854</td>\n",
              "      <td>-0.877278</td>\n",
              "      <td>-0.726511</td>\n",
              "      <td>2018-01-01 00:10:00</td>\n",
              "    </tr>\n",
              "    <tr>\n",
              "      <th>2</th>\n",
              "      <td>-0.585082</td>\n",
              "      <td>1.605374</td>\n",
              "      <td>-1.669781</td>\n",
              "      <td>-1.682987</td>\n",
              "      <td>-1.665854</td>\n",
              "      <td>-0.291667</td>\n",
              "      <td>-0.839094</td>\n",
              "      <td>2018-01-01 00:20:00</td>\n",
              "    </tr>\n",
              "    <tr>\n",
              "      <th>3</th>\n",
              "      <td>-0.480105</td>\n",
              "      <td>1.591281</td>\n",
              "      <td>-1.669781</td>\n",
              "      <td>-1.682987</td>\n",
              "      <td>-1.665854</td>\n",
              "      <td>0.293945</td>\n",
              "      <td>-0.752575</td>\n",
              "      <td>2018-01-01 00:30:00</td>\n",
              "    </tr>\n",
              "    <tr>\n",
              "      <th>4</th>\n",
              "      <td>-0.499445</td>\n",
              "      <td>1.531056</td>\n",
              "      <td>-1.669781</td>\n",
              "      <td>-1.682987</td>\n",
              "      <td>-1.665854</td>\n",
              "      <td>0.879557</td>\n",
              "      <td>-0.782361</td>\n",
              "      <td>2018-01-01 00:40:00</td>\n",
              "    </tr>\n",
              "    <tr>\n",
              "      <th>...</th>\n",
              "      <td>...</td>\n",
              "      <td>...</td>\n",
              "      <td>...</td>\n",
              "      <td>...</td>\n",
              "      <td>...</td>\n",
              "      <td>...</td>\n",
              "      <td>...</td>\n",
              "      <td>...</td>\n",
              "    </tr>\n",
              "    <tr>\n",
              "      <th>47028</th>\n",
              "      <td>0.879179</td>\n",
              "      <td>-0.466141</td>\n",
              "      <td>1.625784</td>\n",
              "      <td>1.790039</td>\n",
              "      <td>1.643251</td>\n",
              "      <td>-0.877278</td>\n",
              "      <td>1.190860</td>\n",
              "      <td>2018-12-31 23:10:00</td>\n",
              "    </tr>\n",
              "    <tr>\n",
              "      <th>47029</th>\n",
              "      <td>-0.084230</td>\n",
              "      <td>-0.427745</td>\n",
              "      <td>1.625784</td>\n",
              "      <td>1.790039</td>\n",
              "      <td>1.643251</td>\n",
              "      <td>-0.291667</td>\n",
              "      <td>0.213444</td>\n",
              "      <td>2018-12-31 23:20:00</td>\n",
              "    </tr>\n",
              "    <tr>\n",
              "      <th>47030</th>\n",
              "      <td>0.176704</td>\n",
              "      <td>-0.420412</td>\n",
              "      <td>1.625784</td>\n",
              "      <td>1.790039</td>\n",
              "      <td>1.643251</td>\n",
              "      <td>0.293945</td>\n",
              "      <td>0.608155</td>\n",
              "      <td>2018-12-31 23:30:00</td>\n",
              "    </tr>\n",
              "    <tr>\n",
              "      <th>47031</th>\n",
              "      <td>0.410022</td>\n",
              "      <td>-0.425207</td>\n",
              "      <td>1.625784</td>\n",
              "      <td>1.790039</td>\n",
              "      <td>1.643251</td>\n",
              "      <td>0.879557</td>\n",
              "      <td>0.848446</td>\n",
              "      <td>2018-12-31 23:40:00</td>\n",
              "    </tr>\n",
              "    <tr>\n",
              "      <th>47032</th>\n",
              "      <td>0.542054</td>\n",
              "      <td>-0.447029</td>\n",
              "      <td>1.625784</td>\n",
              "      <td>1.790039</td>\n",
              "      <td>1.643251</td>\n",
              "      <td>1.465168</td>\n",
              "      <td>1.081240</td>\n",
              "      <td>2018-12-31 23:50:00</td>\n",
              "    </tr>\n",
              "  </tbody>\n",
              "</table>\n",
              "<p>47033 rows × 8 columns</p>\n",
              "</div>\n",
              "      <button class=\"colab-df-convert\" onclick=\"convertToInteractive('df-3ea274ea-2cda-43fd-ac86-285df4b30ffc')\"\n",
              "              title=\"Convert this dataframe to an interactive table.\"\n",
              "              style=\"display:none;\">\n",
              "        \n",
              "  <svg xmlns=\"http://www.w3.org/2000/svg\" height=\"24px\"viewBox=\"0 0 24 24\"\n",
              "       width=\"24px\">\n",
              "    <path d=\"M0 0h24v24H0V0z\" fill=\"none\"/>\n",
              "    <path d=\"M18.56 5.44l.94 2.06.94-2.06 2.06-.94-2.06-.94-.94-2.06-.94 2.06-2.06.94zm-11 1L8.5 8.5l.94-2.06 2.06-.94-2.06-.94L8.5 2.5l-.94 2.06-2.06.94zm10 10l.94 2.06.94-2.06 2.06-.94-2.06-.94-.94-2.06-.94 2.06-2.06.94z\"/><path d=\"M17.41 7.96l-1.37-1.37c-.4-.4-.92-.59-1.43-.59-.52 0-1.04.2-1.43.59L10.3 9.45l-7.72 7.72c-.78.78-.78 2.05 0 2.83L4 21.41c.39.39.9.59 1.41.59.51 0 1.02-.2 1.41-.59l7.78-7.78 2.81-2.81c.8-.78.8-2.07 0-2.86zM5.41 20L4 18.59l7.72-7.72 1.47 1.35L5.41 20z\"/>\n",
              "  </svg>\n",
              "      </button>\n",
              "      \n",
              "  <style>\n",
              "    .colab-df-container {\n",
              "      display:flex;\n",
              "      flex-wrap:wrap;\n",
              "      gap: 12px;\n",
              "    }\n",
              "\n",
              "    .colab-df-convert {\n",
              "      background-color: #E8F0FE;\n",
              "      border: none;\n",
              "      border-radius: 50%;\n",
              "      cursor: pointer;\n",
              "      display: none;\n",
              "      fill: #1967D2;\n",
              "      height: 32px;\n",
              "      padding: 0 0 0 0;\n",
              "      width: 32px;\n",
              "    }\n",
              "\n",
              "    .colab-df-convert:hover {\n",
              "      background-color: #E2EBFA;\n",
              "      box-shadow: 0px 1px 2px rgba(60, 64, 67, 0.3), 0px 1px 3px 1px rgba(60, 64, 67, 0.15);\n",
              "      fill: #174EA6;\n",
              "    }\n",
              "\n",
              "    [theme=dark] .colab-df-convert {\n",
              "      background-color: #3B4455;\n",
              "      fill: #D2E3FC;\n",
              "    }\n",
              "\n",
              "    [theme=dark] .colab-df-convert:hover {\n",
              "      background-color: #434B5C;\n",
              "      box-shadow: 0px 1px 3px 1px rgba(0, 0, 0, 0.15);\n",
              "      filter: drop-shadow(0px 1px 2px rgba(0, 0, 0, 0.3));\n",
              "      fill: #FFFFFF;\n",
              "    }\n",
              "  </style>\n",
              "\n",
              "      <script>\n",
              "        const buttonEl =\n",
              "          document.querySelector('#df-3ea274ea-2cda-43fd-ac86-285df4b30ffc button.colab-df-convert');\n",
              "        buttonEl.style.display =\n",
              "          google.colab.kernel.accessAllowed ? 'block' : 'none';\n",
              "\n",
              "        async function convertToInteractive(key) {\n",
              "          const element = document.querySelector('#df-3ea274ea-2cda-43fd-ac86-285df4b30ffc');\n",
              "          const dataTable =\n",
              "            await google.colab.kernel.invokeFunction('convertToInteractive',\n",
              "                                                     [key], {});\n",
              "          if (!dataTable) return;\n",
              "\n",
              "          const docLinkHtml = 'Like what you see? Visit the ' +\n",
              "            '<a target=\"_blank\" href=https://colab.research.google.com/notebooks/data_table.ipynb>data table notebook</a>'\n",
              "            + ' to learn more about interactive tables.';\n",
              "          element.innerHTML = '';\n",
              "          dataTable['output_type'] = 'display_data';\n",
              "          await google.colab.output.renderOutput(dataTable, element);\n",
              "          const docLink = document.createElement('div');\n",
              "          docLink.innerHTML = docLinkHtml;\n",
              "          element.appendChild(docLink);\n",
              "        }\n",
              "      </script>\n",
              "    </div>\n",
              "  </div>\n",
              "  "
            ]
          },
          "metadata": {},
          "execution_count": 64
        }
      ]
    },
    {
      "cell_type": "code",
      "source": [
        "scaling_dict"
      ],
      "metadata": {
        "colab": {
          "base_uri": "https://localhost:8080/"
        },
        "id": "K3h8bOhIhvBx",
        "outputId": "859c9617-112d-4707-ae83-a2f073c8d778"
      },
      "execution_count": 65,
      "outputs": [
        {
          "output_type": "execute_result",
          "data": {
            "text/plain": [
              "{'wind_speed': [array([7.68860482]), array([4.22601644])],\n",
              " 'wind_direction': [array([123.72129768]), array([92.71575796])],\n",
              " 'month': [array([6.57342717]), array([3.33782008])],\n",
              " 'day': [array([15.53764378]), array([8.63800029])],\n",
              " 'hour': [array([11.57855123]), array([6.95051785])],\n",
              " 'minute': [array([24.98054557]), array([17.07616514])],\n",
              " 'label': [array([1404.91334361]), array([1309.19416897])]}"
            ]
          },
          "metadata": {},
          "execution_count": 65
        }
      ]
    },
    {
      "cell_type": "code",
      "source": [
        "spark_timestamp_df.show()"
      ],
      "metadata": {
        "colab": {
          "base_uri": "https://localhost:8080/"
        },
        "id": "InNcEyghhwTr",
        "outputId": "d6417750-3963-422d-bdea-cd7ac843c3a5"
      },
      "execution_count": 66,
      "outputs": [
        {
          "output_type": "stream",
          "name": "stdout",
          "text": [
            "+----------------+------------------+-----+---+----+------+----------------+-------------------+\n",
            "|wind speed (m/s)|wind direction (°)|month|day|hour|minute|           label|          timestamp|\n",
            "+----------------+------------------+-----+---+----+------+----------------+-------------------+\n",
            "|5.31133604049682|  259.994903564453|    1|  1|   0|     0|380.047790527343|2018-01-01 00:00:00|\n",
            "|5.67216682434082|   268.64111328125|    1|  1|   0|    10| 453.76919555664|2018-01-01 00:10:00|\n",
            "|5.21603679656982|  272.564788818359|    1|  1|   0|    20|306.376586914062|2018-01-01 00:20:00|\n",
            "|5.65967416763305|  271.258087158203|    1|  1|   0|    30|419.645904541015|2018-01-01 00:30:00|\n",
            "|5.57794094085693|  265.674285888671|    1|  1|   0|    40|380.650695800781|2018-01-01 00:40:00|\n",
            "|5.60405206680297|   264.57861328125|    1|  1|   0|    50|402.391998291015|2018-01-01 00:50:00|\n",
            "|5.79300785064697|  266.163604736328|    1|  1|   1|     0|447.605712890625|2018-01-01 01:00:00|\n",
            "|5.30604982376098|  257.949493408203|    1|  1|   1|    10|     387.2421875|2018-01-01 01:10:00|\n",
            "|5.58462905883789|  253.480697631835|    1|  1|   1|    20|463.651214599609|2018-01-01 01:20:00|\n",
            "|5.52322816848754|   258.72378540039|    1|  1|   1|    30|439.725708007812|2018-01-01 01:30:00|\n",
            "|5.72411584854125|  251.850997924804|    1|  1|   1|    40|498.181701660156|2018-01-01 01:40:00|\n",
            "|5.93419885635375|  265.504699707031|    1|  1|   1|    50|526.816223144531|2018-01-01 01:50:00|\n",
            "|6.54741382598876|   274.23291015625|    1|  1|   2|     0|710.587280273437|2018-01-01 02:00:00|\n",
            "|6.19974613189697|  266.733184814453|    1|  1|   2|    10|655.194274902343|2018-01-01 02:10:00|\n",
            "|6.50538301467895|   266.76040649414|    1|  1|   2|    20|754.762512207031|2018-01-01 02:20:00|\n",
            "|6.63411617279052|  270.493194580078|    1|  1|   2|    30|790.173278808593|2018-01-01 02:30:00|\n",
            "|6.37891292572021|  266.593292236328|    1|  1|   2|    40|742.985290527343|2018-01-01 02:40:00|\n",
            "| 6.4466528892517|  265.571807861328|    1|  1|   2|    50|748.229614257812|2018-01-01 02:50:00|\n",
            "|6.41508293151855|   261.15869140625|    1|  1|   3|     0|736.647827148437|2018-01-01 03:00:00|\n",
            "|6.43753099441528|   257.56021118164|    1|  1|   3|    10|787.246215820312|2018-01-01 03:10:00|\n",
            "+----------------+------------------+-----+---+----+------+----------------+-------------------+\n",
            "only showing top 20 rows\n",
            "\n"
          ]
        }
      ]
    },
    {
      "cell_type": "markdown",
      "source": [
        "## Saving results"
      ],
      "metadata": {
        "id": "xIkZh2IFk7Ws"
      }
    },
    {
      "cell_type": "code",
      "source": [
        "df_scaled.to_csv(os.path.join(data_directory_path, \"Data\", \"scaled_wind_data.csv\"), index=False)\n",
        "pd.DataFrame(scaling_dict).to_csv(os.path.join(data_directory_path, \"Data\", \"scaling_df.csv\"), index=False)"
      ],
      "metadata": {
        "id": "DoL72Jntk9ov"
      },
      "execution_count": 67,
      "outputs": []
    }
  ]
}